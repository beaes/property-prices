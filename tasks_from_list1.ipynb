{
  "nbformat": 4,
  "nbformat_minor": 0,
  "metadata": {
    "colab": {
      "name": "tasks_from_list1.ipynb",
      "provenance": [],
      "collapsed_sections": [],
      "mount_file_id": "1ZREdZ5oabHypLUFu1-2wnclT3QjefWhE",
      "authorship_tag": "ABX9TyMO3IIb4d1ookgNJIDCs1Hj"
    },
    "kernelspec": {
      "name": "python3",
      "display_name": "Python 3"
    }
  },
  "cells": [
    {
      "cell_type": "code",
      "metadata": {
        "colab": {
          "base_uri": "https://localhost:8080/"
        },
        "id": "2BCSHWmpHbxU",
        "outputId": "3a39863e-2041-428d-d9c1-eb9748fc130d"
      },
      "source": [
        "#Task 1 Dice. Write a program that randomly draws the number that may appear on the dice, i.e. a number from 1 to 6.\n",
        "\n",
        "import random as r\n",
        "print(r.randrange(1,7))"
      ],
      "execution_count": 11,
      "outputs": [
        {
          "output_type": "stream",
          "text": [
            "4\n"
          ],
          "name": "stdout"
        }
      ]
    },
    {
      "cell_type": "code",
      "metadata": {
        "colab": {
          "base_uri": "https://localhost:8080/"
        },
        "id": "LC3D7UmPGrTe",
        "outputId": "4aa061ca-58c2-4528-8d50-57804cf85d69"
      },
      "source": [
        "#Task 2 Read the word and write Hello Word Name on the screen (separated by a space).\n",
        "\n",
        "word = input('Give a word\\n')\n",
        "print('Hello',word)"
      ],
      "execution_count": 10,
      "outputs": [
        {
          "output_type": "stream",
          "text": [
            "Give a word\n",
            "dad\n",
            "Hello dad\n"
          ],
          "name": "stdout"
        }
      ]
    },
    {
      "cell_type": "code",
      "metadata": {
        "colab": {
          "base_uri": "https://localhost:8080/"
        },
        "id": "wbu4Z8MmFEIt",
        "outputId": "6fc118bc-d196-4134-9582-fcc0494841de"
      },
      "source": [
        "#Task 3 Ana wants to throw a birthday party. She wants to divide the candies equally for the guests and leave the rest for herself. Tell Justine how many candies are left for her.\n",
        "\n",
        "number_of_visitors = int(input('Give a number of visitors\\n'))\n",
        "number_of_sweets = int(input('Give a number of candies\\n'))\n",
        "number_of_rest = number_of_sweets % number_of_visitors\n",
        "print('Justine will have', number_of_rest, 'candies')"
      ],
      "execution_count": 8,
      "outputs": [
        {
          "output_type": "stream",
          "text": [
            "Give a number of visitors\n",
            "65\n",
            "Give a number of candies\n",
            "654\n",
            "Justine will have 4 candies\n"
          ],
          "name": "stdout"
        }
      ]
    },
    {
      "cell_type": "code",
      "metadata": {
        "colab": {
          "base_uri": "https://localhost:8080/"
        },
        "id": "KtSPKKNeE1_s",
        "outputId": "d77089d7-f0ab-4362-ec50-2ceb5aa78145"
      },
      "source": [
        "#Task 4 Print with a print of 20 stars per line.\n",
        "\n",
        "print(20*'*')"
      ],
      "execution_count": 7,
      "outputs": [
        {
          "output_type": "stream",
          "text": [
            "********************\n"
          ],
          "name": "stdout"
        }
      ]
    },
    {
      "cell_type": "code",
      "metadata": {
        "colab": {
          "base_uri": "https://localhost:8080/"
        },
        "id": "ixKVxlGhELNK",
        "outputId": "33715c34-bb57-4a6f-ce16-95e9a4c1d417"
      },
      "source": [
        "#Task 5 Read the number and show the number of digits of that number on the screen.\n",
        "\n",
        "number = input('Give a number\\n')\n",
        "print('The lenght of this number is:',len(number))"
      ],
      "execution_count": 6,
      "outputs": [
        {
          "output_type": "stream",
          "text": [
            "Give a number\n",
            "87654\n",
            "The lenght of this number is: 5\n"
          ],
          "name": "stdout"
        }
      ]
    },
    {
      "cell_type": "code",
      "metadata": {
        "colab": {
          "base_uri": "https://localhost:8080/"
        },
        "id": "vlRC5lrzDTNo",
        "outputId": "19f8ad6d-5a29-4d68-f238-77025da070d8"
      },
      "source": [
        "#Task 6 Read the number and write 10 * number on the screen. Include invalid data.\n",
        "\n",
        "try: \n",
        "  number = int(input('Give a number\\n'))\n",
        "  print(number*10)\n",
        "except:\n",
        "  print('You did not enter a number')\n"
      ],
      "execution_count": 3,
      "outputs": [
        {
          "output_type": "stream",
          "text": [
            "Give a number\n",
            "65\n",
            "650\n"
          ],
          "name": "stdout"
        }
      ]
    },
    {
      "cell_type": "code",
      "metadata": {
        "id": "lh-5vYKvDOiJ",
        "colab": {
          "base_uri": "https://localhost:8080/"
        },
        "outputId": "fa5da84b-b421-47a6-fa43-bfb866c6b603"
      },
      "source": [
        "#Task 7 Read the word and write the first letter of the word\n",
        "word = input('Give a word\\n')\n",
        "print('The first letter of the word is', word[0]) "
      ],
      "execution_count": 2,
      "outputs": [
        {
          "output_type": "stream",
          "text": [
            "Give a word\n",
            "mama\n",
            "The first letter of the word is m\n"
          ],
          "name": "stdout"
        }
      ]
    },
    {
      "cell_type": "code",
      "metadata": {
        "id": "0UH6hxYzFOh1",
        "colab": {
          "base_uri": "https://localhost:8080/"
        },
        "outputId": "3f356260-f1c0-44db-e987-1d020c682bec"
      },
      "source": [
        "#Task 8 Enter a number and check if it is even or odd\n",
        "number = int(input ('Give a number\\n'))\n",
        "\n",
        "if number%2==0: #== this is a values comparison e.g. 8==5\n",
        "  print('Even')\n",
        "else:\n",
        "  print('Odd')"
      ],
      "execution_count": 1,
      "outputs": [
        {
          "output_type": "stream",
          "text": [
            "Give a number\n",
            "76\n",
            "Even\n"
          ],
          "name": "stdout"
        }
      ]
    },
    {
      "cell_type": "code",
      "metadata": {
        "id": "Wj2uYtvcNyyj",
        "colab": {
          "base_uri": "https://localhost:8080/"
        },
        "outputId": "00b668c8-541c-4013-b29b-d75349795377"
      },
      "source": [
        "#Task 9 Read the age of the person and check if the person is a teenager. We assume that a person is a teenager if they are between 13 and 17 years old.\n",
        "\n",
        "age = int(input('Give an age\\n'))\n",
        "if age>12 and age<18:\n",
        "  print('You are a teenager')\n",
        "else:\n",
        "  print('You are not a teenager')"
      ],
      "execution_count": 12,
      "outputs": [
        {
          "output_type": "stream",
          "text": [
            "Give an age\n",
            "44\n",
            "You are not a teenager\n"
          ],
          "name": "stdout"
        }
      ]
    },
    {
      "cell_type": "code",
      "metadata": {
        "id": "CZElt4kmQ9qI",
        "colab": {
          "base_uri": "https://localhost:8080/"
        },
        "outputId": "3b0aec29-a0a9-4544-905e-8521b0941c99"
      },
      "source": [
        "#Task 10 Read the number and check if the number is divisible by 8.\n",
        "\n",
        "number = int(input ('Give a number\\n'))\n",
        "\n",
        "divisor=8\n",
        "if number%divisor==0: \n",
        "  print('A given number is divisible by',divisor)\n",
        "else:\n",
        "  print('A given number is not divisible by',divisor)"
      ],
      "execution_count": 13,
      "outputs": [
        {
          "output_type": "stream",
          "text": [
            "Give a number\n",
            "64\n",
            "A given number is divisible by 8\n"
          ],
          "name": "stdout"
        }
      ]
    },
    {
      "cell_type": "code",
      "metadata": {
        "id": "6UNKaIxoSaJr",
        "colab": {
          "base_uri": "https://localhost:8080/"
        },
        "outputId": "23155b5c-f734-4215-cb96-77896e1fac6b"
      },
      "source": [
        "#Task 11 Write a program that reads the word and checks that the first letter is M.\n",
        "\n",
        "word = input('Give a word\\n')\n",
        "#print(word.lower())\n",
        "if word[0]=='m' or word[0]=='M':\n",
        "  print('YES')\n",
        "else:\n",
        "  print('NOT')"
      ],
      "execution_count": 14,
      "outputs": [
        {
          "output_type": "stream",
          "text": [
            "Give a word\n",
            "mum\n",
            "YES\n"
          ],
          "name": "stdout"
        }
      ]
    },
    {
      "cell_type": "code",
      "metadata": {
        "id": "7xk4tGNiVe_v",
        "colab": {
          "base_uri": "https://localhost:8080/"
        },
        "outputId": "5b94ca1f-1299-42b9-92e5-e84e14bd3868"
      },
      "source": [
        "#Task 12 Read the word and write the value True or False, depending on whether the word contains the word cat.\n",
        "\n",
        "word = input('Give a word\\n')\n",
        "#print(word.lower())\n",
        "if word =='cat' or word =='CAT':\n",
        "  print('TRUE')\n",
        "else:\n",
        "  print('FALSE')"
      ],
      "execution_count": 15,
      "outputs": [
        {
          "output_type": "stream",
          "text": [
            "Give a word\n",
            "ice\n",
            "FALSE\n"
          ],
          "name": "stdout"
        }
      ]
    },
    {
      "cell_type": "code",
      "metadata": {
        "id": "H8ya_n9CXf8Y",
        "colab": {
          "base_uri": "https://localhost:8080/"
        },
        "outputId": "f395e424-6e7a-4995-d431-fdcf0f9a7745"
      },
      "source": [
        "#Task 13 Write a program that reads a word and converts it to lowercase:\n",
        "\n",
        "word = input('Give a word\\n')\n",
        "print(word.lower())"
      ],
      "execution_count": 16,
      "outputs": [
        {
          "output_type": "stream",
          "text": [
            "Give a word\n",
            "ACADEMY\n",
            "academy\n"
          ],
          "name": "stdout"
        }
      ]
    },
    {
      "cell_type": "code",
      "metadata": {
        "id": "p9KWUQ8kX4a-",
        "colab": {
          "base_uri": "https://localhost:8080/"
        },
        "outputId": "c920b47a-ef63-4eca-e16e-3b7c399c84d6"
      },
      "source": [
        "#Task 14 Write a program that reads the word and checks that the entered word is an Academy.\n",
        "\n",
        "word = input('Give a word\\n')\n",
        "\n",
        "if word =='academy' or word =='ACADEMY':\n",
        "  print('YES')\n",
        "else:\n",
        "  print('NOT')"
      ],
      "execution_count": 17,
      "outputs": [
        {
          "output_type": "stream",
          "text": [
            "Give a word\n",
            "academy\n",
            "YES\n"
          ],
          "name": "stdout"
        }
      ]
    },
    {
      "cell_type": "code",
      "metadata": {
        "id": "liqPN_dOYuOq",
        "colab": {
          "base_uri": "https://localhost:8080/"
        },
        "outputId": "28a5f1c1-c718-443a-822c-27d8e12098a1"
      },
      "source": [
        "#Task 15 Read the word and check if the last letter is M or m.\n",
        "\n",
        "word = input('Give a word\\n')\n",
        "\n",
        "if word[-1]=='m' or word[-1]=='M':\n",
        "  print('YES')\n",
        "else:\n",
        "  print('NOT')"
      ],
      "execution_count": 18,
      "outputs": [
        {
          "output_type": "stream",
          "text": [
            "Give a word\n",
            "father\n",
            "NOT\n"
          ],
          "name": "stdout"
        }
      ]
    },
    {
      "cell_type": "code",
      "metadata": {
        "id": "42UMrrrXVCRw",
        "colab": {
          "base_uri": "https://localhost:8080/"
        },
        "outputId": "6e00f0d4-e0ef-49e3-996c-f14b8c3f5e00"
      },
      "source": [
        "#Task 16 Read 2 numbers and write the largest number on the screen.\n",
        "\n",
        "number1 = int(input ('Give a first number\\n'))\n",
        "number2 = int(input ('Give a second number\\n'))\n",
        "\n",
        "if number1 > number2: \n",
        "  print('There is a greater number',number1)\n",
        "else:\n",
        "  print('There is a greater number',number2)"
      ],
      "execution_count": 19,
      "outputs": [
        {
          "output_type": "stream",
          "text": [
            "Give a first number\n",
            "12\n",
            "Give a second number\n",
            "5\n",
            "There is a greater number 12\n"
          ],
          "name": "stdout"
        }
      ]
    },
    {
      "cell_type": "code",
      "metadata": {
        "id": "CTxrYiCJbZXI",
        "colab": {
          "base_uri": "https://localhost:8080/"
        },
        "outputId": "ba02f42e-f307-4cc6-83b5-63c3961adf82"
      },
      "source": [
        "#Task 17 Read 3 numbers and write the largest number on the screen.\n",
        "\n",
        "number1 = int(input ('Give a first number\\n'))\n",
        "number2 = int(input ('Give a second number\\n'))\n",
        "number3 = int(input ('Give a third number\\n'))\n",
        "\n",
        "print('The largest number is', max(number1,number2,number3))"
      ],
      "execution_count": 20,
      "outputs": [
        {
          "output_type": "stream",
          "text": [
            "Give a first number\n",
            "3\n",
            "Give a second number\n",
            "56\n",
            "Give a third number\n",
            "23\n",
            "The largest number is 56\n"
          ],
          "name": "stdout"
        }
      ]
    },
    {
      "cell_type": "code",
      "metadata": {
        "id": "zKQ3n8iCQvOc",
        "colab": {
          "base_uri": "https://localhost:8080/"
        },
        "outputId": "c34af272-90b3-4925-efb6-280498d16e4b"
      },
      "source": [
        "#tTask 18 Read 2 numbers and write the average of the numbers on the screen.\n",
        "\n",
        "number1 = int(input ('Give a first number\\n'))\n",
        "number2 = int(input ('Give a second number\\n'))\n",
        "\n",
        "print('The average is',0.5*(number1+number2))"
      ],
      "execution_count": 21,
      "outputs": [
        {
          "output_type": "stream",
          "text": [
            "Give a first number\n",
            "45\n",
            "Give a second number\n",
            "12\n",
            "The average is 28.5\n"
          ],
          "name": "stdout"
        }
      ]
    },
    {
      "cell_type": "code",
      "metadata": {
        "id": "7IFTH2GN6qhp",
        "colab": {
          "base_uri": "https://localhost:8080/"
        },
        "outputId": "17639a0d-f0fd-4748-8694-e06905c197e0"
      },
      "source": [
        "#Task 19 Read the name and check if the name is male or female. Include the Barnabas exception.\n",
        "\n",
        "name = input('Give a name\\n')\n",
        "\n",
        "if name =='Barnaba' or name=='barnaba':\n",
        "  print('This name is male')\n",
        "elif name[-1]=='a' or name[-1]=='A':\n",
        "  print('This name is female')\n",
        "else:\n",
        "  print('This name is male')"
      ],
      "execution_count": 23,
      "outputs": [
        {
          "output_type": "stream",
          "text": [
            "Give a name\n",
            "barnaba\n",
            "This name is male\n"
          ],
          "name": "stdout"
        }
      ]
    },
    {
      "cell_type": "code",
      "metadata": {
        "id": "7Ob2mNDu16pC",
        "colab": {
          "base_uri": "https://localhost:8080/"
        },
        "outputId": "ca9fe13b-be73-4166-fc05-dc90eab76cdd"
      },
      "source": [
        "#Task 20 Read 2 numbers where the side of a triangle is given, write the hypotenuse on the screen.\n",
        "\n",
        "import math\n",
        "number1 = int(input('Give a first number\\n'))\n",
        "number2 = int(input('Give a second number\\n'))\n",
        "\n",
        "product = number1**2+number2**2\n",
        "print('The hypotenuse is', round(math.sqrt(product),2))\n",
        " "
      ],
      "execution_count": 24,
      "outputs": [
        {
          "output_type": "stream",
          "text": [
            "Give a first number\n",
            "43\n",
            "Give a second number\n",
            "11\n",
            "The hypotenuse is 44.38\n"
          ],
          "name": "stdout"
        }
      ]
    },
    {
      "cell_type": "code",
      "metadata": {
        "id": "f_p3n9FQKWhJ",
        "colab": {
          "base_uri": "https://localhost:8080/"
        },
        "outputId": "80bfd0d5-2f22-4b3c-898a-3d35c1f725ad"
      },
      "source": [
        "#Task 21 Read a number and write the reciprocal of the given number.\n",
        "\n",
        "number = int(input ('Give a number\\n'))\n",
        "print('the reciprocal of a number is',1/number)"
      ],
      "execution_count": 25,
      "outputs": [
        {
          "output_type": "stream",
          "text": [
            "Give a number\n",
            "11\n",
            "the reciprocal of a number is 0.09090909090909091\n"
          ],
          "name": "stdout"
        }
      ]
    },
    {
      "cell_type": "code",
      "metadata": {
        "id": "NFd5IsD-czIQ",
        "colab": {
          "base_uri": "https://localhost:8080/"
        },
        "outputId": "55def273-23b9-4901-9f63-7f76636a0c7d"
      },
      "source": [
        "#Task 22 Write a program that randomizes a number between 1..100.\n",
        "\n",
        "import random as r\n",
        "print(r.randrange(1,101))"
      ],
      "execution_count": 26,
      "outputs": [
        {
          "output_type": "stream",
          "text": [
            "10\n"
          ],
          "name": "stdout"
        }
      ]
    },
    {
      "cell_type": "code",
      "metadata": {
        "id": "cNuU2I-beQfx",
        "colab": {
          "base_uri": "https://localhost:8080/"
        },
        "outputId": "51dbbb57-fbc5-41ad-e0f2-58ab4b81b81b"
      },
      "source": [
        "#Task 23 Write a program that calculates the area of a circle.\n",
        "\n",
        "import math\n",
        "r = int(input('Enter a radius\\n'))\n",
        "score = math.pi*r*r\n",
        "print('The area of the circle is',round(score,2))"
      ],
      "execution_count": 27,
      "outputs": [
        {
          "output_type": "stream",
          "text": [
            "Enter a radius\n",
            "34\n",
            "The area of the circle is 3631.68\n"
          ],
          "name": "stdout"
        }
      ]
    },
    {
      "cell_type": "code",
      "metadata": {
        "id": "SOUW26JgLJbY",
        "colab": {
          "base_uri": "https://localhost:8080/"
        },
        "outputId": "56acf16d-5103-4111-ecf7-3124ae68b750"
      },
      "source": [
        "#Task 24 Write a program that reads a word and checks that the first letter is an A.\n",
        "\n",
        "word = input('Give a word\\n')\n",
        "\n",
        "if word[0]=='a' or word[0]=='A':\n",
        "  print('TRUE')\n",
        "else:\n",
        "  print('FALSE')"
      ],
      "execution_count": 28,
      "outputs": [
        {
          "output_type": "stream",
          "text": [
            "Give a word\n",
            "ana\n",
            "TRUE\n"
          ],
          "name": "stdout"
        }
      ]
    },
    {
      "cell_type": "code",
      "metadata": {
        "id": "Hl3ntHHQLps0",
        "colab": {
          "base_uri": "https://localhost:8080/"
        },
        "outputId": "07319a22-1612-4fce-dd7d-811751051862"
      },
      "source": [
        "#Task 25 Read 2 words and check if the words you entered are equal.\n",
        "\n",
        "word1 = input('Give a first word\\n')\n",
        "word2 = input('Give a second word\\n')\n",
        "\n",
        "if word1 == word2:\n",
        "  print('YES')\n",
        "else:\n",
        "  print('NOT')"
      ],
      "execution_count": 29,
      "outputs": [
        {
          "output_type": "stream",
          "text": [
            "Give a first word\n",
            "mum\n",
            "Give a second word\n",
            "mum\n",
            "YES\n"
          ],
          "name": "stdout"
        }
      ]
    },
    {
      "cell_type": "code",
      "metadata": {
        "id": "CCaZk8RV-nEi",
        "colab": {
          "base_uri": "https://localhost:8080/"
        },
        "outputId": "40d37f3b-9358-4606-e22b-c4d4ec5ca7f3"
      },
      "source": [
        "#Task 26 Read the word and check that the word is a palindrome.\n",
        "\n",
        "word = input('Give a word\\n')\n",
        "\n",
        "if (word == word[:: -1]):\n",
        "  print('This word is a palindrome')\n",
        "else:\n",
        "  print('This word is not a palindrome')"
      ],
      "execution_count": 30,
      "outputs": [
        {
          "output_type": "stream",
          "text": [
            "Give a word\n",
            "dad\n",
            "This word is a palindrome\n"
          ],
          "name": "stdout"
        }
      ]
    },
    {
      "cell_type": "code",
      "metadata": {
        "id": "VyQC_4dOMkhh",
        "colab": {
          "base_uri": "https://localhost:8080/"
        },
        "outputId": "f87697a8-ad87-4db0-d626-cc551776bcdc"
      },
      "source": [
        "#Task 27 Read 2 numbers and write the power as the result.\n",
        "\n",
        "number1 = int(input('Give a first number\\n'))\n",
        "number2 = int(input('Give a second number\\n'))\n",
        "\n",
        "print('The power of nunmbers is',number1**number2)"
      ],
      "execution_count": 32,
      "outputs": [
        {
          "output_type": "stream",
          "text": [
            "Give a first number\n",
            "12\n",
            "Give a second number\n",
            "2\n",
            "The power of nunmbers is 144\n"
          ],
          "name": "stdout"
        }
      ]
    },
    {
      "cell_type": "code",
      "metadata": {
        "id": "Ro4W_n5UNtEC",
        "colab": {
          "base_uri": "https://localhost:8080/"
        },
        "outputId": "26e5b27c-b907-4681-8511-6a32417075bd"
      },
      "source": [
        "#Task 28 Read the word and write the second letter of the word.\n",
        "\n",
        "word = input('Give a word\\n')\n",
        "print('The second letter of a given word is',word[1])"
      ],
      "execution_count": 33,
      "outputs": [
        {
          "output_type": "stream",
          "text": [
            "Give a word\n",
            "happy\n",
            "The second letter of a given word is a\n"
          ],
          "name": "stdout"
        }
      ]
    },
    {
      "cell_type": "code",
      "metadata": {
        "id": "2l8JOkYkEPVS",
        "colab": {
          "base_uri": "https://localhost:8080/"
        },
        "outputId": "c28653a4-af05-4121-b196-32f835e32f46"
      },
      "source": [
        "#Task 29 Read a word and replace * with an empty string. For example, for the string a * bcd, the word abcd is to be printed.\n",
        "\n",
        "word = input('Give a word\\n')\n",
        "print(word.replace('*',''))"
      ],
      "execution_count": 34,
      "outputs": [
        {
          "output_type": "stream",
          "text": [
            "Give a word\n",
            "a*bcd\n",
            "abcd\n"
          ],
          "name": "stdout"
        }
      ]
    },
    {
      "cell_type": "code",
      "metadata": {
        "id": "jtfNic-sO1uZ",
        "colab": {
          "base_uri": "https://localhost:8080/"
        },
        "outputId": "495e01ce-cc33-4531-a16f-44e27e8bf690"
      },
      "source": [
        "#Task 30 Print True if the word ends with \"tka\" or False if the word does not end with \"tka\".\n",
        "\n",
        "word = input('Give a word\\n')\n",
        "\n",
        "if word[-1] =='a' and word[-2] =='k' and word[-3] =='t':\n",
        "  print('TRUE')\n",
        "else:\n",
        "  print('FALSE')  "
      ],
      "execution_count": 35,
      "outputs": [
        {
          "output_type": "stream",
          "text": [
            "Give a word\n",
            "doll\n",
            "FALSE\n"
          ],
          "name": "stdout"
        }
      ]
    }
  ]
}