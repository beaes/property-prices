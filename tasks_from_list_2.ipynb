{
  "nbformat": 4,
  "nbformat_minor": 0,
  "metadata": {
    "colab": {
      "name": "tasks_from_list_2.ipynb",
      "provenance": [],
      "collapsed_sections": [],
      "mount_file_id": "1B3La4wXon1lXhQ3FcbGptYCdcjEEgAL4",
      "authorship_tag": "ABX9TyNqXL8nCU0IUpcIEeExGuGZ"
    },
    "kernelspec": {
      "name": "python3",
      "display_name": "Python 3"
    }
  },
  "cells": [
    {
      "cell_type": "code",
      "metadata": {
        "id": "AsjYy_j71sD3",
        "colab": {
          "base_uri": "https://localhost:8080/"
        },
        "outputId": "16717b0b-bacd-484e-eddb-95fc88e0b1ec"
      },
      "source": [
        "# Task 1 Write a program that prints the string on the screen 'Programming is great'.\n",
        "\n",
        "print('Programming is great\\n')"
      ],
      "execution_count": null,
      "outputs": [
        {
          "output_type": "stream",
          "text": [
            "Programming is great\n",
            "\n"
          ],
          "name": "stdout"
        }
      ]
    },
    {
      "cell_type": "code",
      "metadata": {
        "id": "L9uLYP3t1_5J",
        "colab": {
          "base_uri": "https://localhost:8080/"
        },
        "outputId": "a0061de0-3ca4-4699-caf1-32dfadd5d041"
      },
      "source": [
        "#Task 2 Write a program that prints 15 times the string on the screen 'Academy'.\n",
        "\n",
        "print(15*'Academy\\n')"
      ],
      "execution_count": null,
      "outputs": [
        {
          "output_type": "stream",
          "text": [
            "Academy\n",
            "Academy\n",
            "Academy\n",
            "Academy\n",
            "Academy\n",
            "Academy\n",
            "Academy\n",
            "Academy\n",
            "Academy\n",
            "Academy\n",
            "Academy\n",
            "Academy\n",
            "Academy\n",
            "Academy\n",
            "Academy\n",
            "\n"
          ],
          "name": "stdout"
        }
      ]
    },
    {
      "cell_type": "code",
      "metadata": {
        "id": "biu8FpT629bL",
        "colab": {
          "base_uri": "https://localhost:8080/"
        },
        "outputId": "ceacc525-3955-40ae-dc70-63575a2b788d"
      },
      "source": [
        "#Task 3 Write a program that reads the number from console and prints 100 * number to the screen.\n",
        "\n",
        "try:\n",
        "  number = int(input('Give a number\\n'))  \n",
        "  print(100*number)\n",
        "except:\n",
        "  print('It is not a number!')"
      ],
      "execution_count": null,
      "outputs": [
        {
          "output_type": "stream",
          "text": [
            "Give a number\n",
            "6\n",
            "600\n"
          ],
          "name": "stdout"
        }
      ]
    },
    {
      "cell_type": "code",
      "metadata": {
        "id": "81mvTN7M3aHS",
        "colab": {
          "base_uri": "https://localhost:8080/"
        },
        "outputId": "63a86e22-0ff5-40f3-b2ba-94c59e053af7"
      },
      "source": [
        "# Task 4 Write a program that reads 2 numbers and prints the larger of the numbers to the screen.\n",
        "\n",
        "number1 = int(input ('Give a first number\\n'))\n",
        "number2 = int(input ('Give a second number\\n'))\n",
        "\n",
        "print('The greater number is', max(number1,number2))"
      ],
      "execution_count": null,
      "outputs": [
        {
          "output_type": "stream",
          "text": [
            "Give a first number\n",
            "7\n",
            "Give a second number\n",
            "67\n",
            "The greater number is 67\n"
          ],
          "name": "stdout"
        }
      ]
    },
    {
      "cell_type": "code",
      "metadata": {
        "id": "QUiYOAcn31w-",
        "colab": {
          "base_uri": "https://localhost:8080/"
        },
        "outputId": "75cebed0-644f-480f-afda-34e760ed0997"
      },
      "source": [
        "# Task 5 Write a program that randomizes a number between 1 and 20.\n",
        "\n",
        "import random as r\n",
        "print(r.randrange(1,21))"
      ],
      "execution_count": null,
      "outputs": [
        {
          "output_type": "stream",
          "text": [
            "12\n"
          ],
          "name": "stdout"
        }
      ]
    },
    {
      "cell_type": "code",
      "metadata": {
        "id": "di_kQ8cA8pRA",
        "colab": {
          "base_uri": "https://localhost:8080/"
        },
        "outputId": "65c1f977-7f14-43bd-a589-b8d7c360a0aa"
      },
      "source": [
        "# Task 6 Write a program that reads a digit and prints the digit in written form.\n",
        "\n",
        "!pip install num2words\n",
        "from num2words import num2words\n",
        "number = int(input('Give a number\\n'))\n",
        "print(num2words(number, lang ='pl'))   #language support we choose polish language"
      ],
      "execution_count": null,
      "outputs": [
        {
          "output_type": "stream",
          "text": [
            "Collecting num2words\n",
            "\u001b[?25l  Downloading https://files.pythonhosted.org/packages/eb/a2/ea800689730732e27711c41beed4b2a129b34974435bdc450377ec407738/num2words-0.5.10-py3-none-any.whl (101kB)\n",
            "\r\u001b[K     |███▎                            | 10kB 15.3MB/s eta 0:00:01\r\u001b[K     |██████▌                         | 20kB 15.9MB/s eta 0:00:01\r\u001b[K     |█████████▊                      | 30kB 6.8MB/s eta 0:00:01\r\u001b[K     |█████████████                   | 40kB 3.0MB/s eta 0:00:01\r\u001b[K     |████████████████▏               | 51kB 3.7MB/s eta 0:00:01\r\u001b[K     |███████████████████▍            | 61kB 4.0MB/s eta 0:00:01\r\u001b[K     |██████████████████████▋         | 71kB 4.4MB/s eta 0:00:01\r\u001b[K     |█████████████████████████▉      | 81kB 4.5MB/s eta 0:00:01\r\u001b[K     |█████████████████████████████   | 92kB 4.8MB/s eta 0:00:01\r\u001b[K     |████████████████████████████████| 102kB 3.7MB/s \n",
            "\u001b[?25hRequirement already satisfied: docopt>=0.6.2 in /usr/local/lib/python3.6/dist-packages (from num2words) (0.6.2)\n",
            "Installing collected packages: num2words\n",
            "Successfully installed num2words-0.5.10\n",
            "Give a number\n",
            "88\n",
            "osiemdziesiąt osiem\n"
          ],
          "name": "stdout"
        }
      ]
    },
    {
      "cell_type": "code",
      "metadata": {
        "colab": {
          "base_uri": "https://localhost:8080/"
        },
        "id": "AYA0xAbaE2s5",
        "outputId": "a04ef21d-5666-455a-b8bc-94eac8267ce5"
      },
      "source": [
        "#Task 7 Declare a sample list of usernames. Select an example username from the given list\n",
        "\n",
        "import random\n",
        "usernames = ['peter', 'robert', 'mark', 'justine', 'anna', 'elisabeth', 'rose', 'violet']\n",
        "\n",
        "for username in usernames:\n",
        "  print(username)\n",
        "print(len(usernames))\n",
        "\n",
        "print('The selected user is:')\n",
        "n = random.randrange(0,len(usernames))\n",
        "print(usernames[n])"
      ],
      "execution_count": null,
      "outputs": [
        {
          "output_type": "stream",
          "text": [
            "peter\n",
            "robert\n",
            "mark\n",
            "justine\n",
            "anna\n",
            "elisabeth\n",
            "rose\n",
            "violet\n",
            "8\n",
            "The selected user is:\n",
            "justine\n"
          ],
          "name": "stdout"
        }
      ]
    },
    {
      "cell_type": "code",
      "metadata": {
        "id": "IGhr_5s64Rm7",
        "colab": {
          "base_uri": "https://localhost:8080/"
        },
        "outputId": "c18afb62-cae2-4779-bcd5-7ae8bfc9e00e"
      },
      "source": [
        "# Task 8 Write a program that asks for the correct password (the password is Programming), as long as the user does not guess the password, the message 'enter correct password' is displayed.\n",
        "\n",
        "haslo = input('Give a password\\n')\n",
        "\n",
        "if haslo=='Programming':\n",
        "  print('You give a correct password')\n",
        "else:\n",
        "  print('Enter the correct password')"
      ],
      "execution_count": null,
      "outputs": [
        {
          "output_type": "stream",
          "text": [
            "Give a password\n",
            "doll\n",
            "Enter the correct password\n"
          ],
          "name": "stdout"
        }
      ]
    },
    {
      "cell_type": "code",
      "metadata": {
        "id": "7oFj8mI_5LYn",
        "colab": {
          "base_uri": "https://localhost:8080/"
        },
        "outputId": "5cd804a9-3dc2-47c1-e8d2-ef57ae77eaa9"
      },
      "source": [
        "# Task 9 Read the word and write the length of the loaded word on the screen.\n",
        "\n",
        "word = input('Give a word\\n')\n",
        "print('The lenght of a given word is\\n',len(word))"
      ],
      "execution_count": null,
      "outputs": [
        {
          "output_type": "stream",
          "text": [
            "Give a word\n",
            "dad\n",
            "The lenght of a given word is\n",
            " 3\n"
          ],
          "name": "stdout"
        }
      ]
    },
    {
      "cell_type": "code",
      "metadata": {
        "colab": {
          "base_uri": "https://localhost:8080/"
        },
        "id": "VlGzQQJFIu5X",
        "outputId": "d3a8b086-4e02-4acb-87c6-d5f0929f52e1"
      },
      "source": [
        "#Task 10 Read 2 numbers and swap their values.\n",
        "\n",
        "num1 = input('Enter First Number: ')\n",
        "num2 = input('Enter Second Number: ')\n",
        "\n",
        "print(\"Value of num1 before swapping: \", num1)\n",
        "print(\"Value of num2 before swapping: \", num2)\n",
        "\n",
        "# swapping two numbers without using temporary variable\n",
        "num1, num2 = num2, num1\n",
        "\n",
        "print(\"Value of num1 after swapping: \", num1)\n",
        "print(\"Value of num2 after swapping: \", num2)"
      ],
      "execution_count": null,
      "outputs": [
        {
          "output_type": "stream",
          "text": [
            "Enter First Number: 76\n",
            "Enter Second Number: 44\n",
            "Value of num1 before swapping:  76\n",
            "Value of num2 before swapping:  44\n",
            "Value of num1 after swapping:  44\n",
            "Value of num2 after swapping:  76\n"
          ],
          "name": "stdout"
        }
      ]
    },
    {
      "cell_type": "code",
      "metadata": {
        "id": "SdX5e6mE67w_",
        "colab": {
          "base_uri": "https://localhost:8080/"
        },
        "outputId": "547b30de-1c6f-4be1-e982-e5cb595d6082"
      },
      "source": [
        "#Task 11 Write a program that checks for a given number is a prime number.\n",
        "\n",
        "def isPrime(n):\n",
        "   if n <= 1 or n % 1 > 0:\n",
        "      return False\n",
        "   for i in range(2, n//2):\n",
        "      if n % i == 0:\n",
        "         return False\n",
        "   return True\n",
        "print(isPrime(5))  # True\n",
        "print(isPrime(50)) # False"
      ],
      "execution_count": 13,
      "outputs": [
        {
          "output_type": "stream",
          "text": [
            "True\n",
            "False\n"
          ],
          "name": "stdout"
        }
      ]
    }
  ]
}